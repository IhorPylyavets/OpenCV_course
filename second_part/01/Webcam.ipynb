{
 "cells": [
  {
   "cell_type": "code",
   "execution_count": 2,
   "id": "bef1e272-0aa3-446a-9c39-307027ad90f5",
   "metadata": {},
   "outputs": [],
   "source": [
    "import cv2\n",
    "import numpy as np\n",
    "import time"
   ]
  },
  {
   "cell_type": "code",
   "execution_count": 4,
   "id": "9d260199-8b35-4e16-9d2b-57d2491d71f3",
   "metadata": {},
   "outputs": [],
   "source": [
    "def convert_to_grayscale(frame):\n",
    "    gray_frame = cv2.cvtColor(frame, cv2.COLOR_BGR2GRAY)\n",
    "    return gray_frame\n",
    "\n",
    "def display_green_objects(frame):\n",
    "    hsv_frame = cv2.cvtColor(frame, cv2.COLOR_BGR2HSV)\n",
    "\n",
    "    lower_green = np.array([71, 77, 35])\n",
    "    upper_green = np.array([98, 255, 190])\n",
    "\n",
    "    green_mask = cv2.inRange(hsv_frame, lower_green, upper_green)\n",
    "\n",
    "    kernel = np.ones((15, 15), np.uint8)\n",
    "    green_mask = cv2.morphologyEx(green_mask, cv2.MORPH_OPEN, kernel)\n",
    "\n",
    "    combined_frame = np.vstack((frame, np.repeat(green_mask[:, :, np.newaxis], 3, axis=2)))\n",
    "    return combined_frame"
   ]
  },
  {
   "cell_type": "code",
   "execution_count": 6,
   "id": "3d48f65e-dbdf-4d82-bb79-99de83f03256",
   "metadata": {},
   "outputs": [],
   "source": [
    "class FPS_Counter:\n",
    "    def __init__(self, calc_time_perion_N_frames: int) -> None:\n",
    "        self.time_buffer = []\n",
    "        self.calc_time_perion_N_frames = calc_time_perion_N_frames\n",
    "\n",
    "    def calc_FPS(self) -> float:\n",
    "        time_buffer_is_full = len(self.time_buffer) == self.calc_time_perion_N_frames\n",
    "        t = time.time()\n",
    "        self.time_buffer.append(t)\n",
    "\n",
    "        if time_buffer_is_full:\n",
    "            self.time_buffer.pop(0)\n",
    "            fps = len(self.time_buffer) / (self.time_buffer[-1] - self.time_buffer[0])\n",
    "            return np.round(fps, 2)\n",
    "        else:\n",
    "            return 0.0\n",
    "\n",
    "def calc_and_show_fps(frame, fps_counter):\n",
    "    fps_real = fps_counter.calc_FPS()\n",
    "    text = f\"FPS: {fps_real:.1f}\"\n",
    "\n",
    "    fontFace = 1\n",
    "    fontScale = 1.3\n",
    "    thickness = 1\n",
    "    \n",
    "    (label_width, label_height), _ = cv2.getTextSize(\n",
    "        text,\n",
    "        fontFace=fontFace,\n",
    "        fontScale=fontScale,\n",
    "        thickness=thickness,\n",
    "    )\n",
    "    frame = cv2.rectangle(frame, (0, 0), (10 + label_width, 15 + label_height), (0, 0, 0), -1)\n",
    "    frame = cv2.putText(\n",
    "        img=frame,\n",
    "        text=text,\n",
    "        org=(5, 20),\n",
    "        fontFace=fontFace,\n",
    "        fontScale=fontScale,\n",
    "        thickness=thickness,\n",
    "        color=(255, 255, 255),\n",
    "    )\n",
    "    return frame"
   ]
  },
  {
   "cell_type": "code",
   "execution_count": 8,
   "id": "993f1ebf-da7f-4ce0-a6ae-f8ba4c355af6",
   "metadata": {},
   "outputs": [
    {
     "name": "stderr",
     "output_type": "stream",
     "text": [
      "2025-09-06 11:29:27.031 python[44844:3238915] +[IMKClient subclass]: chose IMKClient_Modern\n",
      "2025-09-06 11:29:27.031 python[44844:3238915] +[IMKInputSession subclass]: chose IMKInputSession_Modern\n"
     ]
    }
   ],
   "source": [
    "fps_counter = FPS_Counter(calc_time_perion_N_frames=15)\n",
    "\n",
    "webcam = cv2.VideoCapture(0)\n",
    "\n",
    "if not webcam.isOpened():\n",
    "    print('Cant open webcam')\n",
    "\n",
    "webcam.set(cv2.CAP_PROP_FRAME_WIDTH, 1280)\n",
    "webcam.set(cv2.CAP_PROP_FRAME_HEIGHT, 720)\n",
    "\n",
    "while True:\n",
    "    ret, frame = webcam.read()\n",
    "\n",
    "    if not ret:\n",
    "        print('Cant get frame from webcam')\n",
    "        break\n",
    "\n",
    "    #frame = convert_to_grayscale(frame)\n",
    "    frame = display_green_objects(frame)\n",
    "\n",
    "    scale = 0.5\n",
    "    frame = cv2.resize(frame, (-1, -1), fx=scale, fy=scale)\n",
    "\n",
    "    frame = calc_and_show_fps(frame, fps_counter)\n",
    "\n",
    "    cv2.imshow('Webcam', frame)\n",
    "\n",
    "    if cv2.waitKey(1) & 0xFF == ord('q'):\n",
    "        break\n",
    "\n",
    "webcam.release()\n",
    "cv2.destroyAllWindows()"
   ]
  },
  {
   "cell_type": "code",
   "execution_count": null,
   "id": "e4a669c4-436d-4f8b-b105-1d515f306d25",
   "metadata": {},
   "outputs": [],
   "source": []
  }
 ],
 "metadata": {
  "kernelspec": {
   "display_name": "Python [conda env:base] *",
   "language": "python",
   "name": "conda-base-py"
  },
  "language_info": {
   "codemirror_mode": {
    "name": "ipython",
    "version": 3
   },
   "file_extension": ".py",
   "mimetype": "text/x-python",
   "name": "python",
   "nbconvert_exporter": "python",
   "pygments_lexer": "ipython3",
   "version": "3.12.7"
  }
 },
 "nbformat": 4,
 "nbformat_minor": 5
}
